{
 "cells": [
  {
   "cell_type": "markdown",
   "metadata": {},
   "source": [
    "Robot Journalism\n",
    "================\n",
    "\n",
    "Comment les villes françaises se sont remises de la crise financière de 2009 ?\n",
    "Écrire une fonction qui affiche une courte note basée sur les paramètres suivants:\n",
    "\n",
    "* Nom de la ville\n",
    "* Chômage pour cette ville en 2016\n",
    "* Chômage pour cette ville en 2009\n",
    "* Chômage en France en 2016\n",
    "* Chômage en France en 2009\n",
    "\n",
    "Utilisez des conditions IF qui prennent en compte les valeurs reçus.\n",
    "Le résultat doit ressembler à ça:\n",
    "\n",
    "```\n",
    "En 2016, le chômage à Paris était X% plus haut qu'avant la crise financière de 2009.\n",
    "Il est passé de X% à Y%.\n",
    "Le dévelopement de cette ville a été un peu moins bon que celui du pays\n",
    "où le taux de chômage pendant la même période a augmenté de X%.\n",
    "```"
   ]
  },
  {
   "cell_type": "code",
   "execution_count": 2,
   "metadata": {},
   "outputs": [],
   "source": [
    "total_unemployment_2009 = 8.8\n",
    "total_unemployment_2016 = 9.6"
   ]
  },
  {
   "cell_type": "code",
   "execution_count": null,
   "metadata": {},
   "outputs": [],
   "source": []
  },
  {
   "cell_type": "code",
   "execution_count": null,
   "metadata": {},
   "outputs": [],
   "source": [
    "def write_story(municipality, unemployment_2009, unemployment_2016):\n",
    "    text = \"Générer une histoire...\"\n",
    "    print(text)"
   ]
  },
  {
   "cell_type": "code",
   "execution_count": null,
   "metadata": {},
   "outputs": [],
   "source": [
    "write_story(\"Lyon\", 8.3, 8.8)\n",
    "print '*****************'\n",
    "write_story(\"Marseille\", 11.5, 12.1)\n",
    "print '*****************'\n",
    "write_story(\"Paris\", 7.8, 8.4)\n",
    "print '*****************'\n",
    "write_story(\"Saint-Nazaire\", 8.4, 8.7)\n",
    "print '*****************'\n",
    "write_story(\"Tours\", 7.8, 9.1)"
   ]
  }
 ],
 "metadata": {
  "kernelspec": {
   "display_name": "Python 3",
   "language": "python",
   "name": "python3"
  },
  "language_info": {
   "codemirror_mode": {
    "name": "ipython",
    "version": 3
   },
   "file_extension": ".py",
   "mimetype": "text/x-python",
   "name": "python",
   "nbconvert_exporter": "python",
   "pygments_lexer": "ipython3",
   "version": "3.7.10"
  }
 },
 "nbformat": 4,
 "nbformat_minor": 4
}
