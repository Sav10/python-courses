{
 "cells": [
  {
   "cell_type": "code",
   "execution_count": 1,
   "id": "cb4d0142",
   "metadata": {},
   "outputs": [],
   "source": [
    "from bs4 import BeautifulSoup\n",
    "import requests\n",
    "import random\n",
    "import time\n",
    "import pandas as pd"
   ]
  },
  {
   "cell_type": "code",
   "execution_count": 2,
   "id": "eb4f2c90",
   "metadata": {},
   "outputs": [],
   "source": [
    "# Request to website and download HTML contents\n",
    "url='https://www.lazada.sg/catalog/?_keyori=ss&from=input&q=mask'"
   ]
  },
  {
   "cell_type": "code",
   "execution_count": 3,
   "id": "e1913b95",
   "metadata": {},
   "outputs": [],
   "source": [
    "# Define API url\n",
    "url_search='https://sg-en-web-api.ezbuy.sg/api/EzCategory/ListProductsByCondition'\n",
    "#Define header for the post request\n",
    "headers={'user-agent':'Mozilla/5.0 (Macintosh; Intel Mac OS X 10_11_6) AppleWebKit/537.36 (KHTML, like Gecko) Chrome/83.0.4103.116 Safari/537.36'}\n",
    "#Define payload for the request form\n",
    "data={\n",
    "    \"searchCondition\": \n",
    "        {\"categoryId\":0,\"freeShippingType\":0,\"filter\": [],\"keyWords\":\"mask\"},\n",
    "        \"limit\":100,\n",
    "        \"offset\":0,\n",
    "        \"language\":\"en\",\n",
    "        \"dataType\":\"new\"\n",
    "    }\n",
    "req=requests.post(url_search,headers=headers,json=data)"
   ]
  },
  {
   "cell_type": "code",
   "execution_count": null,
   "id": "89e05a55",
   "metadata": {},
   "outputs": [],
   "source": [
    "requests.post(url,headers=headers, json={} )"
   ]
  },
  {
   "cell_type": "code",
   "execution_count": null,
   "id": "f15559e1",
   "metadata": {},
   "outputs": [],
   "source": [
    "requests"
   ]
  },
  {
   "cell_type": "code",
   "execution_count": 4,
   "id": "9fdfd510",
   "metadata": {},
   "outputs": [],
   "source": [
    "#read the data back as json file\n",
    "j=req.json()\n",
    "# Store data into the fields \n",
    "price = []\n",
    "price = []\n",
    "location = []\n",
    "name = []\n",
    "ratingScore = []\n",
    "quantity = []\n",
    "for item in j['products']:\n",
    "    price.append(item['price'])\n",
    "    location.append(item['originCode'])\n",
    "    name.append(item['name'])\n",
    "    ratingScore.append(item['leftView']['rateScore'])\n",
    "    quantity.append(item['rightView']['text'].split(' Sold')[0])\n",
    "#Combine all the columns together\n",
    "output=pd.DataFrame({'Name':name,'price':price,'location':location,'Rating Score':ratingScore,'Quantity Sold':quantity})"
   ]
  },
  {
   "cell_type": "code",
   "execution_count": 5,
   "id": "7cf2d0ec",
   "metadata": {},
   "outputs": [
    {
     "data": {
      "text/html": [
       "<div>\n",
       "<style scoped>\n",
       "    .dataframe tbody tr th:only-of-type {\n",
       "        vertical-align: middle;\n",
       "    }\n",
       "\n",
       "    .dataframe tbody tr th {\n",
       "        vertical-align: top;\n",
       "    }\n",
       "\n",
       "    .dataframe thead th {\n",
       "        text-align: right;\n",
       "    }\n",
       "</style>\n",
       "<table border=\"1\" class=\"dataframe\">\n",
       "  <thead>\n",
       "    <tr style=\"text-align: right;\">\n",
       "      <th></th>\n",
       "      <th>Name</th>\n",
       "      <th>price</th>\n",
       "      <th>location</th>\n",
       "      <th>Rating Score</th>\n",
       "      <th>Quantity Sold</th>\n",
       "    </tr>\n",
       "  </thead>\n",
       "  <tbody>\n",
       "    <tr>\n",
       "      <th>0</th>\n",
       "      <td>100 packs of F94 masks Korea disposable adult ...</td>\n",
       "      <td>10.49</td>\n",
       "      <td>CN</td>\n",
       "      <td>4.8</td>\n",
       "      <td>2788</td>\n",
       "    </tr>\n",
       "    <tr>\n",
       "      <th>1</th>\n",
       "      <td>[New] Aprilskin Real Calendula Peel Off Pack 100g</td>\n",
       "      <td>21.90</td>\n",
       "      <td>SG</td>\n",
       "      <td>4.8</td>\n",
       "      <td>265</td>\n",
       "    </tr>\n",
       "    <tr>\n",
       "      <th>2</th>\n",
       "      <td>[New] Aprilskin Real Calendula Peel Off Pack +...</td>\n",
       "      <td>29.90</td>\n",
       "      <td>SG</td>\n",
       "      <td>4.7</td>\n",
       "      <td>74</td>\n",
       "    </tr>\n",
       "    <tr>\n",
       "      <th>3</th>\n",
       "      <td>50Pcs Korean version of KF94 masks Korean fish...</td>\n",
       "      <td>5.79</td>\n",
       "      <td>CN</td>\n",
       "      <td>4.8</td>\n",
       "      <td>20140</td>\n",
       "    </tr>\n",
       "    <tr>\n",
       "      <th>4</th>\n",
       "      <td>50Pcs Disposable Masks Four-Layer Individual P...</td>\n",
       "      <td>8.19</td>\n",
       "      <td>CN</td>\n",
       "      <td>4.7</td>\n",
       "      <td>931</td>\n",
       "    </tr>\n",
       "    <tr>\n",
       "      <th>...</th>\n",
       "      <td>...</td>\n",
       "      <td>...</td>\n",
       "      <td>...</td>\n",
       "      <td>...</td>\n",
       "      <td>...</td>\n",
       "    </tr>\n",
       "    <tr>\n",
       "      <th>95</th>\n",
       "      <td>50 F94 masks Korea disposable adult 3D stereo ...</td>\n",
       "      <td>6.39</td>\n",
       "      <td>CN</td>\n",
       "      <td>5.0</td>\n",
       "      <td>191</td>\n",
       "    </tr>\n",
       "    <tr>\n",
       "      <th>96</th>\n",
       "      <td>50Pcs Disposable Mask For Kids &amp; Adult</td>\n",
       "      <td>7.59</td>\n",
       "      <td>CN</td>\n",
       "      <td>4.7</td>\n",
       "      <td>455</td>\n",
       "    </tr>\n",
       "    <tr>\n",
       "      <th>97</th>\n",
       "      <td>20pcs color Korean version kf94 mask four-laye...</td>\n",
       "      <td>4.59</td>\n",
       "      <td>CN</td>\n",
       "      <td>4.9</td>\n",
       "      <td>259</td>\n",
       "    </tr>\n",
       "    <tr>\n",
       "      <th>98</th>\n",
       "      <td>Face Shield Breathing Safety Face Masks Anti-f...</td>\n",
       "      <td>4.99</td>\n",
       "      <td>CN</td>\n",
       "      <td>4.8</td>\n",
       "      <td>326</td>\n",
       "    </tr>\n",
       "    <tr>\n",
       "      <th>99</th>\n",
       "      <td>Face Mask Air Refresher / Single Use Beads / F...</td>\n",
       "      <td>10.00</td>\n",
       "      <td>SG</td>\n",
       "      <td>4.6</td>\n",
       "      <td>744</td>\n",
       "    </tr>\n",
       "  </tbody>\n",
       "</table>\n",
       "<p>100 rows × 5 columns</p>\n",
       "</div>"
      ],
      "text/plain": [
       "                                                 Name  price location  \\\n",
       "0   100 packs of F94 masks Korea disposable adult ...  10.49       CN   \n",
       "1   [New] Aprilskin Real Calendula Peel Off Pack 100g  21.90       SG   \n",
       "2   [New] Aprilskin Real Calendula Peel Off Pack +...  29.90       SG   \n",
       "3   50Pcs Korean version of KF94 masks Korean fish...   5.79       CN   \n",
       "4   50Pcs Disposable Masks Four-Layer Individual P...   8.19       CN   \n",
       "..                                                ...    ...      ...   \n",
       "95  50 F94 masks Korea disposable adult 3D stereo ...   6.39       CN   \n",
       "96             50Pcs Disposable Mask For Kids & Adult   7.59       CN   \n",
       "97  20pcs color Korean version kf94 mask four-laye...   4.59       CN   \n",
       "98  Face Shield Breathing Safety Face Masks Anti-f...   4.99       CN   \n",
       "99  Face Mask Air Refresher / Single Use Beads / F...  10.00       SG   \n",
       "\n",
       "    Rating Score Quantity Sold  \n",
       "0            4.8          2788  \n",
       "1            4.8           265  \n",
       "2            4.7            74  \n",
       "3            4.8         20140  \n",
       "4            4.7           931  \n",
       "..           ...           ...  \n",
       "95           5.0           191  \n",
       "96           4.7           455  \n",
       "97           4.9           259  \n",
       "98           4.8           326  \n",
       "99           4.6           744  \n",
       "\n",
       "[100 rows x 5 columns]"
      ]
     },
     "execution_count": 5,
     "metadata": {},
     "output_type": "execute_result"
    }
   ],
   "source": [
    "output"
   ]
  },
  {
   "cell_type": "code",
   "execution_count": 7,
   "id": "062a2af2",
   "metadata": {},
   "outputs": [],
   "source": [
    "FormData={\n",
    "    'submitAllStores':'View All Stores'\n",
    "}\n",
    "requests.headers = {\"User-Agent\":\"Mozilla/5.0\"}\n",
    "res = requests.post(\"http://www.health.state.mn.us/divs/cfh/wic/wicstores/index.cfm\",data=FormData)\n",
    "soup = BeautifulSoup(res.text, 'lxml')"
   ]
  },
  {
   "cell_type": "code",
   "execution_count": 8,
   "id": "0f3e9f4a",
   "metadata": {},
   "outputs": [
    {
     "data": {
      "text/plain": []
     },
     "execution_count": 8,
     "metadata": {},
     "output_type": "execute_result"
    }
   ],
   "source": [
    "soup"
   ]
  },
  {
   "cell_type": "code",
   "execution_count": null,
   "id": "d228ba45",
   "metadata": {},
   "outputs": [],
   "source": [
    "for item in soup.select(\".info\"):\n",
    "        shopname = item.select_one(\".info-service\").text\n",
    "        print(shopname)"
   ]
  },
  {
   "cell_type": "code",
   "execution_count": 2,
   "id": "2d270493-045e-4e7a-81ee-bf5e06d4fdd8",
   "metadata": {},
   "outputs": [],
   "source": [
    "driver = webdriver.Firefox()"
   ]
  },
  {
   "cell_type": "code",
   "execution_count": 3,
   "id": "30df8530-a1a5-42c5-a001-540997a9e957",
   "metadata": {},
   "outputs": [
    {
     "ename": "NameError",
     "evalue": "name 'url' is not defined",
     "output_type": "error",
     "traceback": [
      "\u001b[0;31m---------------------------------------------------------------------------\u001b[0m",
      "\u001b[0;31mNameError\u001b[0m                                 Traceback (most recent call last)",
      "\u001b[0;32m<ipython-input-3-4848907ef2cb>\u001b[0m in \u001b[0;36m<module>\u001b[0;34m\u001b[0m\n\u001b[0;32m----> 1\u001b[0;31m \u001b[0mdriver\u001b[0m\u001b[0;34m.\u001b[0m\u001b[0mget\u001b[0m\u001b[0;34m(\u001b[0m\u001b[0murl\u001b[0m\u001b[0;34m)\u001b[0m\u001b[0;34m\u001b[0m\u001b[0;34m\u001b[0m\u001b[0m\n\u001b[0m",
      "\u001b[0;31mNameError\u001b[0m: name 'url' is not defined"
     ]
    }
   ],
   "source": [
    "driver.get(url)"
   ]
  },
  {
   "cell_type": "code",
   "execution_count": null,
   "id": "f8a0aa24-bbe9-4160-95e0-57b80d4d76db",
   "metadata": {},
   "outputs": [],
   "source": []
  }
 ],
 "metadata": {
  "kernelspec": {
   "display_name": "Python 3",
   "language": "python",
   "name": "python3"
  },
  "language_info": {
   "codemirror_mode": {
    "name": "ipython",
    "version": 3
   },
   "file_extension": ".py",
   "mimetype": "text/x-python",
   "name": "python",
   "nbconvert_exporter": "python",
   "pygments_lexer": "ipython3",
   "version": "3.7.11"
  }
 },
 "nbformat": 4,
 "nbformat_minor": 5
}
