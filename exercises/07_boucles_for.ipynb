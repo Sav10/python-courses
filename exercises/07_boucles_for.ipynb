{
 "cells": [
  {
   "cell_type": "code",
   "execution_count": 1,
   "metadata": {},
   "outputs": [],
   "source": [
    "# %load 11_for_loops.py\n",
    "\n",
    "unicorns = [\n",
    "    \"Marie-Do AESCHLIMANN\",\n",
    "    \"Samira AIDOUD\",\n",
    "    \"Magali ALEXANDRE\",\n",
    "    \"Mathilde ANDROUËT\",\n",
    "    \"Clémentine AUTAIN\",\n",
    "    \"Nadège AZZAZ\",\n",
    "    \"Marie-Pierre BADRÉ\",\n",
    "    \"Charlotte BAELDE\"\n",
    "]"
   ]
  },
  {
   "cell_type": "markdown",
   "metadata": {},
   "source": [
    "Tâches:\n",
    "- faire une boucle qui imprime une liste numérotée des politiciens:\n",
    "    1. Marie-Do AESCHLIMANN\n",
    "    2. Samira AIDOUD\n",
    "    3. etc."
   ]
  },
  {
   "cell_type": "code",
   "execution_count": null,
   "metadata": {},
   "outputs": [],
   "source": [
    "#C'est ici que commence notre programme ! Nous avons mis le compteur à 1\n",
    "counter = 1\n",
    "for unicorn in unicorns:\n",
    "    #La boucle est exécutée ici"
   ]
  },
  {
   "cell_type": "code",
   "execution_count": null,
   "metadata": {},
   "outputs": [],
   "source": []
  },
  {
   "cell_type": "markdown",
   "metadata": {},
   "source": [
    "Tâches:\n",
    "\n",
    "Utilisez la fonction len(), qui s'applique aux chaînes et aux listes,\n",
    "afin de déterminer combien de politicien ont des noms longs ou courts."
   ]
  },
  {
   "cell_type": "code",
   "execution_count": 6,
   "metadata": {},
   "outputs": [
    {
     "name": "stdout",
     "output_type": "stream",
     "text": [
      "La boucle est exécutée ici\n",
      "La boucle est exécutée ici\n",
      "La boucle est exécutée ici\n",
      "La boucle est exécutée ici\n",
      "La boucle est exécutée ici\n",
      "La boucle est exécutée ici\n",
      "La boucle est exécutée ici\n",
      "La boucle est exécutée ici\n",
      "0 sur 8 politiciens ont un nom long.\n",
      "0 sur 8 politiciens ont un nom courts.\n"
     ]
    }
   ],
   "source": [
    "long_names = 0\n",
    "short_names = 0\n",
    "total_names = len(politicians)\n",
    "#Nos compteurs ont été mis à 0\n",
    "for name in politicians:\n",
    "    print(\"La boucle est exécutée ici\")\n",
    "    \n",
    "\n",
    "print(f\"{long_names} sur {total_names} politiciens ont un nom long.\")\n",
    "print(f\"{short_names} sur {total_names} politiciens ont un nom courts.\")"
   ]
  },
  {
   "cell_type": "code",
   "execution_count": null,
   "metadata": {},
   "outputs": [],
   "source": []
  },
  {
   "cell_type": "code",
   "execution_count": null,
   "metadata": {},
   "outputs": [],
   "source": []
  },
  {
   "cell_type": "code",
   "execution_count": null,
   "metadata": {},
   "outputs": [],
   "source": [
    "data = [\n",
    "    {\n",
    "        \"municipality\": \"Ale\",\n",
    "        \"unemployment_2009\": 5.5,\n",
    "        \"unemployment_2014\": 4.9\n",
    "    },\n",
    "    {\n",
    "        \"municipality\": \"Alingsås\",\n",
    "        \"unemployment_2009\": 5.7,\n",
    "        \"unemployment_2014\": 6.0\n",
    "    },\n",
    "    {\n",
    "        \"municipality\": \"Alvesta\",\n",
    "        \"unemployment_2009\": 4.7,\n",
    "        \"unemployment_2014\": 8.9\n",
    "    },\n",
    "    {\n",
    "        \"municipality\": \"Aneby\",\n",
    "        \"unemployment_2009\": 4.9,\n",
    "        \"unemployment_2014\": 6.2\n",
    "    },\n",
    "    {\n",
    "        \"municipality\": \"Arboga\",\n",
    "        \"unemployment_2009\": 6.5,\n",
    "        \"unemployment_2014\": 9.4\n",
    "    },\n",
    "    {\n",
    "        \"municipality\": \"Arjeplog\",\n",
    "        \"unemployment_2009\": 6.1,\n",
    "        \"unemployment_2014\": 5.6\n",
    "    },\n",
    "    {\n",
    "        \"municipality\": \"Arvidsjaur\",\n",
    "        \"unemployment_2009\": 7.8,\n",
    "        \"unemployment_2014\": 7.7\n",
    "    },\n",
    "    {\n",
    "        \"municipality\": \"Arvika\",\n",
    "        \"unemployment_2009\": 7.0,\n",
    "        \"unemployment_2014\": 6.9\n",
    "    },\n",
    "    {\n",
    "        \"municipality\": \"Askersund\",\n",
    "        \"unemployment_2009\": 5.7,\n",
    "        \"unemployment_2014\": 5.5\n",
    "    },\n",
    "    {\n",
    "        \"municipality\": \"Avesta\",\n",
    "        \"unemployment_2009\": 5.8,\n",
    "        \"unemployment_2014\": 8.1\n",
    "    },\n",
    "    {\n",
    "        \"municipality\": \"Bengtsfors\",\n",
    "        \"unemployment_2009\": 8.0,\n",
    "        \"unemployment_2014\": 8.3\n",
    "    },\n",
    "    {\n",
    "        \"municipality\": \"Berg\",\n",
    "        \"unemployment_2009\": 6.4,\n",
    "        \"unemployment_2014\": 7.3\n",
    "    },\n",
    "    {\n",
    "        \"municipality\": \"Bjurholm\",\n",
    "        \"unemployment_2009\": 5.7,\n",
    "        \"unemployment_2014\": 9.2\n",
    "    },\n",
    "    {\n",
    "        \"municipality\": \"Bjuv\",\n",
    "        \"unemployment_2009\": 7.0,\n",
    "        \"unemployment_2014\": 8.2\n",
    "    },\n",
    "    {\n",
    "        \"municipality\": \"Boden\",\n",
    "        \"unemployment_2009\": 6.7,\n",
    "        \"unemployment_2014\": 7.8\n",
    "    }\n",
    "]\n"
   ]
  },
  {
   "cell_type": "markdown",
   "metadata": {},
   "source": [
    "#### Tâches: parcourir cette liste de villes et afficher leur nom et l'évolution de leur taux de chômage entre 2009 et 2014."
   ]
  },
  {
   "cell_type": "code",
   "execution_count": null,
   "metadata": {},
   "outputs": [],
   "source": [
    "for row in data:\n",
    "    print(row)"
   ]
  },
  {
   "cell_type": "code",
   "execution_count": null,
   "metadata": {},
   "outputs": [],
   "source": []
  },
  {
   "cell_type": "markdown",
   "metadata": {},
   "source": [
    "#### Tâches: parcourir cette liste de villes et utilisez une condition IF pour écrire une phrase qui varie selon l'augmentation (ou non) du taux de chomage"
   ]
  },
  {
   "cell_type": "code",
   "execution_count": null,
   "metadata": {},
   "outputs": [],
   "source": [
    "for row in data:\n",
    "    print(row)"
   ]
  }
 ],
 "metadata": {
  "kernelspec": {
   "display_name": "Python 3",
   "language": "python",
   "name": "python3"
  },
  "language_info": {
   "codemirror_mode": {
    "name": "ipython",
    "version": 3
   },
   "file_extension": ".py",
   "mimetype": "text/x-python",
   "name": "python",
   "nbconvert_exporter": "python",
   "pygments_lexer": "ipython3",
   "version": "3.7.10"
  }
 },
 "nbformat": 4,
 "nbformat_minor": 4
}
