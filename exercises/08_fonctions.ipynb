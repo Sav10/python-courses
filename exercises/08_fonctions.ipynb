{
 "cells": [
  {
   "cell_type": "markdown",
   "metadata": {},
   "source": [
    "#### Tâches: faire une fonction qui prend un pourcentage de chômage et retourne une catégrie comme \"faible\", \"moyen\" ou \"élevé\" à l'aide d'une condition IF."
   ]
  },
  {
   "cell_type": "code",
   "execution_count": null,
   "metadata": {},
   "outputs": [],
   "source": [
    "def categorize_unemployment(unemployment):\n",
    "    if unemployment < 5.0:\n",
    "        return \"faible\""
   ]
  },
  {
   "cell_type": "code",
   "execution_count": null,
   "metadata": {},
   "outputs": [],
   "source": [
    "print(categorize_unemployment(1.2))\n",
    "print(categorize_unemployment(10.3))\n",
    "print(categorize_unemployment(7.8))\n",
    "print(categorize_unemployment(5.6))\n",
    "print(categorize_unemployment(2.1))"
   ]
  },
  {
   "cell_type": "code",
   "execution_count": null,
   "metadata": {},
   "outputs": [],
   "source": []
  },
  {
   "cell_type": "markdown",
   "metadata": {},
   "source": [
    "#### Tâches: faire une fonction qui calcule l'augmentation ou la diminution du taux chômage entre les deux années."
   ]
  },
  {
   "cell_type": "code",
   "execution_count": null,
   "metadata": {},
   "outputs": [],
   "source": [
    "data = [\n",
    "    {\n",
    "        \"municipality\": \"Ale\",\n",
    "        \"unemployment_2009\": 5.5,\n",
    "        \"unemployment_2014\": 4.9\n",
    "    },\n",
    "    {\n",
    "        \"municipality\": \"Alingsås\",\n",
    "        \"unemployment_2009\": 5.7,\n",
    "        \"unemployment_2014\": 6.0\n",
    "    },\n",
    "    {\n",
    "        \"municipality\": \"Alvesta\",\n",
    "        \"unemployment_2009\": 4.7,\n",
    "        \"unemployment_2014\": 8.9\n",
    "    }\n",
    "]"
   ]
  },
  {
   "cell_type": "code",
   "execution_count": null,
   "metadata": {},
   "outputs": [],
   "source": [
    "# Stocker les valeurs de deux villes dans la liste (la première et la dernière)\n",
    "ale = data[0]\n",
    "alvesta = data[2]\n",
    "# Affiche ces valeurs\n",
    "print(ale)\n",
    "print(alvesta)"
   ]
  },
  {
   "cell_type": "code",
   "execution_count": null,
   "metadata": {},
   "outputs": [],
   "source": [
    "def get_change(unemployment_now, unemployment_then):\n",
    "    # Codez votre fonction ici\n",
    "    return 0"
   ]
  },
  {
   "cell_type": "code",
   "execution_count": null,
   "metadata": {},
   "outputs": [],
   "source": [
    "print(get_change(ale[\"unemployment_2014\"], ale[\"unemployment_2009\"]))\n",
    "print(get_change(alvesta[\"unemployment_2014\"], ale[\"unemployment_2009\"]))"
   ]
  }
 ],
 "metadata": {
  "kernelspec": {
   "display_name": "Python 3",
   "language": "python",
   "name": "python3"
  },
  "language_info": {
   "codemirror_mode": {
    "name": "ipython",
    "version": 3
   },
   "file_extension": ".py",
   "mimetype": "text/x-python",
   "name": "python",
   "nbconvert_exporter": "python",
   "pygments_lexer": "ipython3",
   "version": "3.7.11"
  }
 },
 "nbformat": 4,
 "nbformat_minor": 4
}
