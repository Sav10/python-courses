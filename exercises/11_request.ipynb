{
 "cells": [
  {
   "cell_type": "code",
   "execution_count": 4,
   "metadata": {},
   "outputs": [],
   "source": [
    "import requests\n",
    "from bs4 import BeautifulSoup\n",
    "\n",
    "# URL de la page à ouvrir\n",
    "url = 'https://api.ipify.org'\n",
    "# On ouvre l'URL et on stock le resultat dans response\n",
    "response = requests.get(url)\n",
    "# Pour lire le texte de la page, on utilise '.text'"
   ]
  },
  {
   "cell_type": "markdown",
   "metadata": {},
   "source": [
    "#### Statut de la réponse (200 : OK)"
   ]
  },
  {
   "cell_type": "code",
   "execution_count": 5,
   "metadata": {},
   "outputs": [
    {
     "data": {
      "text/plain": [
       "200"
      ]
     },
     "execution_count": 5,
     "metadata": {},
     "output_type": "execute_result"
    }
   ],
   "source": [
    "response.status_code"
   ]
  },
  {
   "cell_type": "markdown",
   "metadata": {},
   "source": [
    "#### Afficher le texte de la page"
   ]
  },
  {
   "cell_type": "code",
   "execution_count": 6,
   "metadata": {},
   "outputs": [
    {
     "data": {
      "text/plain": [
       "'78.192.101.36'"
      ]
     },
     "execution_count": 6,
     "metadata": {},
     "output_type": "execute_result"
    }
   ],
   "source": [
    "response.text"
   ]
  },
  {
   "cell_type": "code",
   "execution_count": 7,
   "metadata": {},
   "outputs": [],
   "source": [
    "# L'URL pour trouver le pays correspondant à une ip ou un nom de domaine\n",
    "infourl = 'http://ip-api.com/xml/liberation.fr'"
   ]
  },
  {
   "cell_type": "markdown",
   "metadata": {},
   "source": [
    "Tâches:\n",
    "- changer le site (ou l'ip) cible\n",
    "- afficher le contenu de la page"
   ]
  },
  {
   "cell_type": "code",
   "execution_count": null,
   "metadata": {},
   "outputs": [],
   "source": []
  },
  {
   "cell_type": "code",
   "execution_count": 7,
   "metadata": {},
   "outputs": [
    {
     "name": "stdout",
     "output_type": "stream",
     "text": [
      "Pays: France\n"
     ]
    }
   ],
   "source": [
    "# On ouvre l'autre URL et on stock le resultat dans response\n",
    "infourl = 'http://ip-api.com/xml/liberation.fr'\n",
    "response = requests.get(infourl)\n",
    "xml = response.text\n",
    "# Ce resultat est au format XML (comme du HTML),\n",
    "# il faut que Python puisse le comprendre\n",
    "soup = BeautifulSoup(xml, 'html.parser')\n",
    "# Affiche des valeur\n",
    "print (f\"Pays: {soup.query.country.text}\")"
   ]
  },
  {
   "cell_type": "markdown",
   "metadata": {},
   "source": [
    "Tâches:\n",
    "- changer le site (ou l'ip) cible\n",
    "- afficher d'autre information avec xpath"
   ]
  },
  {
   "cell_type": "code",
   "execution_count": null,
   "metadata": {},
   "outputs": [],
   "source": []
  },
  {
   "cell_type": "code",
   "execution_count": 8,
   "metadata": {},
   "outputs": [],
   "source": [
    "headers = {\n",
    "        'User-Agent': 'Mozilla/5.0 (X11; Ubuntu; Linux x86_64; rv:62.0) Gecko/20100101 Firefox/62.0',\n",
    "        'Accept': 'text/html,text/javascript,application/xhtml+xml,application/xml;q=0.9,*/*;q=0.8',\n",
    "        'Cache-Control': 'no-cache',\n",
    "        'Accept-Language': 'fr,fr-FR;q=0.8,en-US;q=0.5,en;q=0.3',\n",
    "        'Connection': 'keep-alive',\n",
    "        'Pragma': 'no-cache'\n",
    "    }"
   ]
  },
  {
   "cell_type": "code",
   "execution_count": 9,
   "metadata": {},
   "outputs": [],
   "source": [
    "base = \"https://www.ebay.fr/b/Telephones-mobiles/9355/bn_16576651\"\n",
    "# On ouvre l'autre URL et on stock le resultat dans body\n",
    "body = requests.get(base, headers = headers).text\n",
    "# Parse le HTML avec Beautiful Soup\n",
    "soup = BeautifulSoup(body, 'html.parser')\n",
    "# Liste des titres avec un selecteur CSS\n",
    "titles = soup.select(\".b-info__title\")"
   ]
  },
  {
   "cell_type": "code",
   "execution_count": 10,
   "metadata": {
    "collapsed": true,
    "jupyter": {
     "outputs_hidden": true
    },
    "tags": []
   },
   "outputs": [
    {
     "name": "stdout",
     "output_type": "stream",
     "text": [
      "APPLE iPhone 11 64Go Blanc Reconditionné Parfait état\n",
      "Blackview A80 Pro 4GB+64GB Téléphone Mobile portable Smartphone Débloqué Dual 4G\n",
      "SAMSUNG GALAXY A52s 5G 128GO BLANC DUAL SIM ANDROID AFFICHAGE 6.5\"\n",
      "Apple iPhone XS Max 512 Go gris sidéral (Bon État)\n",
      "Xiaomi POCO F3 6GB 128G 6,67 5G Smartphone Versione Globale Spina Europea NFC\n",
      "SAMSUNG GALAXY S21 5G 128GO ROM 8GO RAM GRIS DUAL SIM AFFICHAGE 6.2\"\n",
      "MOTOROLA EDGE 20 LITE 5G 128GO ROM 6GO RAM GRIS ANDROID AFFICHAGE 6.7\"\n",
      "APPLE iPhone 11 64Go (PRODUCT)RED Reconditionné Très bon état\n",
      "Apple iPhone 13 - 128 Go - Lumière stellaire (Déverrouillé)\n",
      "POCO X3 Pro - 256/8 Go - Bleu Glacé (Désimlocké) (Double SIM)\n",
      "Xiaomi Redmi Note 9S - 64 Go - Gris Interstellaire (Désimlocké) (Double SIM)\n",
      "Apple iPhone 12 - 128 Go - Bleu (Déverrouillé)\n",
      "Xiaomi Mi 11 Lite - 128Go - Peach Pink (Déverrouillé) (Dual SIM)\n",
      "POCO F3 - 128Go - Bleu Océan (Désimlocké) (Double SIM)\n",
      "Xiaomi POCO X3 NFC - 64 Go - Shadow Gray (Désimlocké) (Double SIM)\n",
      "Xiaomi Mi Note 10 Lite - 128Go - Blanc Glacier (Déverrouillé) (Double SIM)\n",
      "Xiaomi Redmi Note 8 - 64 Go - Neptune Blue (Désimlocké) (Double SIM)\n",
      "Xiaomi Redmi Note 9S - 64 Go - Gris Interstellaire (Désimlocké) (Double SIM)\n",
      "Redmi Note 9 Pro - 128Go - Vert Forêt (Débloqué) (Double SIM)\n",
      "Xiaomi Redmi Note 9S - 64 Go - Bleu Aurora (Désimlocké) (Double SIM)\n",
      "POCO F3 - 256Go - Noir Profond (Déverrouillé) (Dual SIM)\n",
      "Xiaomi Redmi Note 8 Pro - 128 Go - Bleu Océan (Désimlocké) (Double SIM)\n",
      "Redmi Note 9 Pro - 128Go - Gris de Minuit (Débloqué) (Double SIM)\n",
      "Xiaomi Redmi Note 8 Pro - 64 Go - Minéral Gris (Désimlocké) (Double SIM)\n",
      "BARDAHL LOT 24 BOMBES Dégraissant Nettoyant Freins Ultra Puissant 600mL\n",
      "Chargeur batterie voiture / auto CTEK MXS 5.0 MXS5  12V 5A de 1.2-100ah\n",
      "PURGEUR DE FREIN AUTOMATIQUE AUTONOME PURGE CIRCUIT DE FREINAGE EMBRAYAGE 3L\n",
      "Riken Europe ALL SEASON 215/55R16 97V - PNEUS - PN\n",
      "Batterie VARTA Start-Stop Silver Dynamic AGM 80Ah/800A (F21)\n",
      "Chaînes neige chaussettes textile premium MUSHER Taille 10 (la paire) - France\n",
      "Pack Eco entretien Mecarun, ECO 10000 diesel + C99 diesel + P18 - 250ml\n"
     ]
    }
   ],
   "source": [
    "for title in titles:\n",
    "    # La fonction 'strip()' permet de supprimer les espaces avant et après un texte\n",
    "    print (title.text.strip())"
   ]
  },
  {
   "cell_type": "markdown",
   "metadata": {},
   "source": [
    "Tâches:\n",
    "- obtenir une liste d'annonces de vélos en faisant une recherche sur ebay.fr\n",
    "- les titres des annonces peuvent être trouvés avec le selecteur CSS '.lvresult h3 .vip' ou '.s-item__title'"
   ]
  },
  {
   "cell_type": "code",
   "execution_count": null,
   "metadata": {},
   "outputs": [],
   "source": []
  },
  {
   "cell_type": "code",
   "execution_count": 43,
   "metadata": {},
   "outputs": [],
   "source": [
    "def select_text(soup, selector):\n",
    "    elements = soup.select(selector)\n",
    "    if len(elements) > 0:\n",
    "        return elements[0].text.strip()\n",
    "\n",
    "def select_href(soup, selector):\n",
    "    elements = soup.select(selector)\n",
    "    if len(elements) > 0:\n",
    "        return elements[0].get('href')\n",
    "\n",
    "\n",
    "base = \"https://www.ebay.fr/sch/i.html?_from=R40&_trksid=m570.l1313&_nkw=v%C3%A9lo&_sacat=0\"\n",
    "# On ouvre l'autre URL et on stock le resultat dans body\n",
    "body = requests.get(base).text\n",
    "# Parse le HTML avec Beautiful Soup\n",
    "soup = BeautifulSoup(body, 'html.parser')\n",
    "# Tous les éléments de la liste\n",
    "list_items = soup.select(\".s-item\")\n"
   ]
  },
  {
   "cell_type": "code",
   "execution_count": 47,
   "metadata": {},
   "outputs": [],
   "source": [
    "list_products = []\n",
    "for item in list_items:\n",
    "    # L'élément contient le prix, on affiche uniquement les annonce avec un prix\n",
    "    price = select_text(item, '.s-item__price')\n",
    "    # COMPLETEZ ICI le selecteur CSS\n",
    "    title = select_text(item, '.s-item__title')\n",
    "    # COMPLETEZ ICI le selecteur CSS\n",
    "    url = select_href(item, '.s-item__link')\n",
    "    list_products.append({'title': title, 'price': price, 'url': url})\n",
    "\n",
    "#     print (f\"{title} à {price} sur {url}\")"
   ]
  },
  {
   "cell_type": "markdown",
   "metadata": {},
   "source": [
    "Tâches:\n",
    "- dans chaque résultat, extraire: le titre, le prix et le lien vers l'annonce"
   ]
  },
  {
   "cell_type": "code",
   "execution_count": null,
   "metadata": {},
   "outputs": [],
   "source": []
  }
 ],
 "metadata": {
  "kernelspec": {
   "display_name": "Python 3",
   "language": "python",
   "name": "python3"
  },
  "language_info": {
   "codemirror_mode": {
    "name": "ipython",
    "version": 3
   },
   "file_extension": ".py",
   "mimetype": "text/x-python",
   "name": "python",
   "nbconvert_exporter": "python",
   "pygments_lexer": "ipython3",
   "version": "3.7.11"
  }
 },
 "nbformat": 4,
 "nbformat_minor": 4
}
