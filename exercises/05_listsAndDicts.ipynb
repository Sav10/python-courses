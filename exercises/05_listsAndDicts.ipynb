{
 "cells": [
  {
   "cell_type": "code",
   "execution_count": 1,
   "metadata": {},
   "outputs": [],
   "source": [
    "import numpy as np"
   ]
  },
  {
   "cell_type": "markdown",
   "metadata": {},
   "source": [
    "#### Listes et dictionnaires"
   ]
  },
  {
   "cell_type": "markdown",
   "metadata": {},
   "source": [
    "Exercise: remplacer les espaces vides dans la phrase par des éléments du tableau.\n",
    "\n",
    "Pour rappel, ici parties[0] correspond à \"Democratic Party\".\n"
   ]
  },
  {
   "cell_type": "code",
   "execution_count": 2,
   "metadata": {},
   "outputs": [],
   "source": [
    "politicians = [\"Barack Obama\", \"Hillary Clinton\", \"Joe Biden\",\n",
    "               \"George W. Bush\", \"Donald Trump\"]\n",
    "\n",
    "parties = [\"Democratic Party\", \"Republican Party\", \"Libertarian Party\",\n",
    "           \"Green Party\", \"Constitution Party\"]\n",
    "\n",
    "\n"
   ]
  },
  {
   "cell_type": "code",
   "execution_count": 3,
   "metadata": {},
   "outputs": [
    {
     "name": "stdout",
     "output_type": "stream",
     "text": [
      "After a tense race, Joe Biden from the Democratic Party is elected as President of the USA.\n"
     ]
    }
   ],
   "source": [
    "print(f\"After a tense race, {politicians[2]} from the {parties[0]} is elected as President of the USA.\")"
   ]
  },
  {
   "cell_type": "code",
   "execution_count": null,
   "metadata": {},
   "outputs": [],
   "source": []
  },
  {
   "cell_type": "code",
   "execution_count": 4,
   "metadata": {},
   "outputs": [],
   "source": [
    "stockholm = {\n",
    "    'unemployment_2009': 4.0,\n",
    "    'unemployment_2014': 5.1\n",
    "}\n",
    "\n",
    "solna = {\n",
    "    'unemployment_2009': 2.7,\n",
    "    'unemployment_2014': 4.1\n",
    "}"
   ]
  },
  {
   "cell_type": "markdown",
   "metadata": {},
   "source": [
    "De combien de pourcent le chomage a augmenté à Stockholm ?"
   ]
  },
  {
   "cell_type": "code",
   "execution_count": null,
   "metadata": {},
   "outputs": [],
   "source": []
  },
  {
   "cell_type": "markdown",
   "metadata": {},
   "source": [
    "De combien de pourcent le chomage a augmenté à Solna ?"
   ]
  },
  {
   "cell_type": "code",
   "execution_count": null,
   "metadata": {},
   "outputs": [],
   "source": []
  },
  {
   "cell_type": "markdown",
   "metadata": {},
   "source": [
    "De combien de points le chômage est plus élevé à Stockholm  qu'à Solna en 2014 ?"
   ]
  },
  {
   "cell_type": "code",
   "execution_count": null,
   "metadata": {},
   "outputs": [],
   "source": []
  },
  {
   "cell_type": "markdown",
   "metadata": {},
   "source": [
    "Autres tâches:\n",
    "- donnez à Stockholm et Solna une nouvelle propriété appellée \"evolution_rate\"\n",
    "- calculez les taux d'évolution en utilisant les autres propriétés"
   ]
  },
  {
   "cell_type": "code",
   "execution_count": null,
   "metadata": {},
   "outputs": [],
   "source": []
  }
 ],
 "metadata": {
  "kernelspec": {
   "display_name": "Python 3",
   "language": "python",
   "name": "python3"
  },
  "language_info": {
   "codemirror_mode": {
    "name": "ipython",
    "version": 3
   },
   "file_extension": ".py",
   "mimetype": "text/x-python",
   "name": "python",
   "nbconvert_exporter": "python",
   "pygments_lexer": "ipython3",
   "version": "3.7.11"
  }
 },
 "nbformat": 4,
 "nbformat_minor": 4
}
