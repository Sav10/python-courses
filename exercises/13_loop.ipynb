{
 "cells": [
  {
   "cell_type": "code",
   "execution_count": null,
   "metadata": {},
   "outputs": [],
   "source": [
    "import requests\n",
    "from bs4 import BeautifulSoup"
   ]
  },
  {
   "cell_type": "code",
   "execution_count": null,
   "metadata": {},
   "outputs": [],
   "source": [
    "headers = {\n",
    "        'User-Agent': 'Mozilla/5.0 (X11; Ubuntu; Linux x86_64; rv:62.0) Gecko/20100101 Firefox/62.0',\n",
    "        'Accept': 'text/html,text/javascript,application/xhtml+xml,application/xml;q=0.9,*/*;q=0.8',\n",
    "        'Cache-Control': 'no-cache',\n",
    "        'Accept-Language': 'fr,fr-FR;q=0.8,en-US;q=0.5,en;q=0.3',\n",
    "        'Connection': 'keep-alive',\n",
    "        'Pragma': 'no-cache'\n",
    "    }"
   ]
  },
  {
   "cell_type": "code",
   "execution_count": null,
   "metadata": {},
   "outputs": [],
   "source": [
    "base = \"https://www.ebay.fr/sch/i.html?_from=R40&_sacat=0&_nkw=v%C3%A9lo&rt=nc&LH_BIN=1&_pgn=\"\n",
    "\n",
    "def select_text(soup, selector):\n",
    "    elements = soup.select(selector)\n",
    "    if len(elements) > 0:\n",
    "        return elements[0].text.strip()\n",
    "\n",
    "def select_href(soup, selector):\n",
    "    elements = soup.select(selector)\n",
    "    if len(elements) > 0:\n",
    "        return elements[0].get('href')\n",
    "\n",
    "def clean_price(price):\n",
    "    if price is None:\n",
    "        return None\n",
    "    price = price.replace(' ', '')\n",
    "    price = price.lower()\n",
    "    # Supprime le \"EUR\"\n",
    "    price = price.replace('eur', '')\n",
    "    # Supprime les espaces\n",
    "    price = price.replace(' ', '')\n",
    "    # Remplace le séparateur des décimals par un point\n",
    "    price = price.replace(',', '.')\n",
    "    # Retourne un float\n",
    "    try:\n",
    "        return float(price)\n",
    "    except:\n",
    "        return None"
   ]
  },
  {
   "cell_type": "code",
   "execution_count": null,
   "metadata": {
    "tags": []
   },
   "outputs": [],
   "source": [
    "def fetch_list(page = 0):\n",
    "    # On ouvre l'autre URL et on stock le resultat dans body\n",
    "    body = requests.get(base + str(page)).text\n",
    "    # Parse le HTML avec Beautiful Soup\n",
    "    soup = BeautifulSoup(body, 'html.parser')\n",
    "    # Tous les éléments de la liste\n",
    "    list_items = soup.select(\".s-item\")\n",
    "\n",
    "    for item in list_items:\n",
    "        # L'élément .lvprice contient le prix, on affiche uniquement les annonce avec un pri\n",
    "        price = select_text(item, '.s-item__price')\n",
    "        print(price)\n",
    "        price = clean_price(price)\n",
    "        title = select_text(item, '.s-item__title')\n",
    "        url = select_href(item, '.s-item__link')\n",
    "\n",
    "        print (f\"{title} à {price} sur {url}\")\n",
    "\n",
    "\n",
    "fetch_list()"
   ]
  },
  {
   "cell_type": "markdown",
   "metadata": {},
   "source": [
    "Tâches:\n",
    "- créez une boucle FOR qui va afficher les annonces sur au moins 3 pages"
   ]
  },
  {
   "cell_type": "code",
   "execution_count": null,
   "metadata": {},
   "outputs": [],
   "source": []
  }
 ],
 "metadata": {
  "kernelspec": {
   "display_name": "Python 3",
   "language": "python",
   "name": "python3"
  },
  "language_info": {
   "codemirror_mode": {
    "name": "ipython",
    "version": 3
   },
   "file_extension": ".py",
   "mimetype": "text/x-python",
   "name": "python",
   "nbconvert_exporter": "python",
   "pygments_lexer": "ipython3",
   "version": "3.7.11"
  }
 },
 "nbformat": 4,
 "nbformat_minor": 4
}
