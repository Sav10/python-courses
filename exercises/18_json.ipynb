{
 "cells": [
  {
   "cell_type": "code",
   "execution_count": 1,
   "metadata": {},
   "outputs": [],
   "source": [
    "# %load 33_json.py\n",
    "import json\n",
    "import requests\n",
    "\n",
    "def fetch_recipes():\n",
    "    url = \"TROUVER L'URL DE L'API SUR http://www.recipepuppy.com POUR DES RAMENS\"\n",
    "    return requests.get(url).tewt\n",
    "\n",
    "body = json.loads(fetch_recipes())\n",
    "\n",
    "for recipe in body[\"results\"]:\n",
    "    # Afficher ici le titre et le lien de chaque recette\n"
   ]
  },
  {
   "cell_type": "code",
   "execution_count": null,
   "metadata": {},
   "outputs": [],
   "source": []
  }
 ],
 "metadata": {
  "kernelspec": {
   "display_name": "Python 3",
   "language": "python",
   "name": "python3"
  },
  "language_info": {
   "codemirror_mode": {
    "name": "ipython",
    "version": 3
   },
   "file_extension": ".py",
   "mimetype": "text/x-python",
   "name": "python",
   "nbconvert_exporter": "python",
   "pygments_lexer": "ipython3",
   "version": "3.7.10"
  }
 },
 "nbformat": 4,
 "nbformat_minor": 4
}
