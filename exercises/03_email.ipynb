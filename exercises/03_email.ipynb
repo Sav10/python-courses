{
 "cells": [
  {
   "cell_type": "markdown",
   "metadata": {},
   "source": [
    "### Manipuler des chaines de caractères"
   ]
  },
  {
   "cell_type": "code",
   "execution_count": null,
   "metadata": {},
   "outputs": [],
   "source": [
    "first_name = \"clementine\"\n",
    "last_name = \"autain\"\n",
    "domain = \"iledefrance.fr\""
   ]
  },
  {
   "cell_type": "markdown",
   "metadata": {},
   "source": [
    "Tâches:\n",
    "\n",
    "- Créez une variable combinant ces 3 éléments pour créer un email\n",
    "- Afficher cet email : email = ???"
   ]
  },
  {
   "cell_type": "code",
   "execution_count": null,
   "metadata": {},
   "outputs": [],
   "source": []
  },
  {
   "cell_type": "code",
   "execution_count": null,
   "metadata": {},
   "outputs": [],
   "source": [
    "name = \"Clémentine Autain\"\n",
    "domain = \"riksdagen.se\""
   ]
  },
  {
   "cell_type": "markdown",
   "metadata": {},
   "source": [
    "Tâches:\n",
    "- Utilisez .replace() pour remplace les espaces par des points et les \"é\" par des \"e\"\n",
    "- Utilisez .lower() pour passer le texte en minuscule"
   ]
  },
  {
   "cell_type": "code",
   "execution_count": null,
   "metadata": {},
   "outputs": [],
   "source": []
  },
  {
   "cell_type": "markdown",
   "metadata": {},
   "source": [
    "#### Fonction email\n",
    "- Écrire une fonction qui prend pour paramète un nom et un domaine.\n",
    "- Transformez le nom pour être avec une adresse email et affichez le.\n",
    "\n",
    "     Ce code doit:\n",
    "     1) remplacer les espaces par des \"_\"\n",
    "     2) convertir en minuscule\n",
    "     3) remplacer les caractères spéciaux (é, è, ë) par des caractères non-accentués\n",
    "     4) afficher le resutat\n",
    "     5) retourner le resutat"
   ]
  },
  {
   "cell_type": "code",
   "execution_count": null,
   "metadata": {},
   "outputs": [],
   "source": [
    "def emailify(name, domain):\n",
    "    "
   ]
  },
  {
   "cell_type": "code",
   "execution_count": null,
   "metadata": {},
   "outputs": [],
   "source": []
  },
  {
   "cell_type": "code",
   "execution_count": null,
   "metadata": {},
   "outputs": [],
   "source": [
    "emailify(\"Mathilde ANDROUËT\", \"iledefrance.fr\")\n",
    "emailify(\"Clémentine AUTAIN\", \"iledefrance.fr\")\n",
    "emailify(\"Nadège AZZAZ\", \"iledefrance.fr\")\n",
    "emailify(\"Marie-Pierre BADRÉ\", \"iledefrance.fr\")\n",
    "emailify(\"Charlotte BAELDE\", \"iledefrance.fr\")"
   ]
  }
 ],
 "metadata": {
  "kernelspec": {
   "display_name": "Python 3",
   "language": "python",
   "name": "python3"
  },
  "language_info": {
   "codemirror_mode": {
    "name": "ipython",
    "version": 3
   },
   "file_extension": ".py",
   "mimetype": "text/x-python",
   "name": "python",
   "nbconvert_exporter": "python",
   "pygments_lexer": "ipython3",
   "version": "3.7.10"
  }
 },
 "nbformat": 4,
 "nbformat_minor": 4
}
