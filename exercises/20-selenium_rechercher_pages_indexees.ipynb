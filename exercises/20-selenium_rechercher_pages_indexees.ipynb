{
 "cells": [
  {
   "cell_type": "code",
   "execution_count": 71,
   "id": "68c25f3a-20d5-4dbf-b60b-fec40b064fe8",
   "metadata": {},
   "outputs": [],
   "source": [
    "import pandas as pd\n",
    "import time\n",
    "from selenium import webdriver\n",
    "from selenium.webdriver.chrome.options import Options\n",
    "from selenium.webdriver.firefox.options import Options\n",
    "\n",
    "from selenium.webdriver.common.keys import Keys\n",
    "from selenium.common.exceptions import TimeoutException, NoSuchElementException\n",
    "from selenium.webdriver.support.ui import WebDriverWait"
   ]
  },
  {
   "cell_type": "markdown",
   "id": "30d500a3-1238-4fb7-ab2e-f7c31c57bfff",
   "metadata": {},
   "source": [
    "**Ouverture d'une session de navigateur**"
   ]
  },
  {
   "cell_type": "code",
   "execution_count": 67,
   "id": "96b00abb-f602-4bfc-9a0a-c6ae15184f05",
   "metadata": {},
   "outputs": [],
   "source": [
    "url = 'https://www.lemonde.fr/'\n",
    "driver = webdriver.Firefox()"
   ]
  },
  {
   "cell_type": "markdown",
   "id": "324f8bf7-cc1c-40b7-8231-9ab66aae0abc",
   "metadata": {},
   "source": [
    "**Accès à l'url**"
   ]
  },
  {
   "cell_type": "code",
   "execution_count": 68,
   "id": "16ca9a55-66d0-4dc3-a890-5b1802e02208",
   "metadata": {},
   "outputs": [],
   "source": [
    "driver.get(url)"
   ]
  },
  {
   "cell_type": "markdown",
   "id": "8b0b5828-c1f0-4479-b2c0-f68e592d2aa9",
   "metadata": {},
   "source": [
    "**Click sur le bouton d'acceptation**"
   ]
  },
  {
   "cell_type": "code",
   "execution_count": 64,
   "id": "daf82368-0b10-4df8-8882-dc485abb3e74",
   "metadata": {},
   "outputs": [],
   "source": [
    "driver.find_element_by_xpath('/html/body/div[6]/div/footer/button[1]').click()\n",
    "#On aurait également pu trouver le bouton par son sélecteur CSS\n",
    "#driver.find_element_by_css_selector('.gdpr-lmd-button').click()"
   ]
  },
  {
   "cell_type": "markdown",
   "id": "261cff20-744f-4a39-8da4-ee911e2d5b2d",
   "metadata": {},
   "source": [
    "**Fermer le navigateur**"
   ]
  },
  {
   "cell_type": "code",
   "execution_count": 70,
   "id": "44ab9f84-fc37-4651-b514-e417ce9b4976",
   "metadata": {},
   "outputs": [],
   "source": [
    "driver.quit()"
   ]
  },
  {
   "cell_type": "markdown",
   "id": "d37b2ea0-aa34-4c35-88f6-1364b26ed4d3",
   "metadata": {},
   "source": [
    "### Exemple : Trouver le nombre de pages indexées pour ces sites"
   ]
  },
  {
   "cell_type": "code",
   "execution_count": 30,
   "id": "e6ef1387-c473-4cd1-a7fd-69aae1091645",
   "metadata": {},
   "outputs": [],
   "source": [
    "urls = [\n",
    "    'searchenginejournal.com',\n",
    "    'moz.com',\n",
    "    'searchengineland.com',\n",
    "    'liberation.fr',\n",
    "    'lemonde.fr',\n",
    "    'lefigaro.fr'\n",
    "    ]\n",
    " \n",
    "indexes = {}\n",
    "xpath = '//*[@id=\"result-stats\"]'"
   ]
  },
  {
   "cell_type": "code",
   "execution_count": 48,
   "id": "6a6b5bea-f1f9-4f9e-950c-07dcbed3cdcd",
   "metadata": {},
   "outputs": [],
   "source": [
    "def get_index(url,xpath,headless=True):\n",
    "    '''\n",
    "    Faire tourner selenium.\n",
    "    Obtenir le nombre de pages indexées.\n",
    "    url: url à extraire\n",
    "    headless: pour rendre visible ou non le navigateur.\n",
    "    '''\n",
    "    print(f'Opening {url}')\n",
    "    options = Options()\n",
    "    options.headless = headless\n",
    "    driver = webdriver.Firefox(options=options)\n",
    "    driver.get(url)\n",
    "    #Cliquer sur le bouton d'acceptation des cookies\n",
    "    driver.find_element_by_xpath('/html/body/div[3]/div[3]/span/div/div/div/div[3]/button[2]/div').click()\n",
    "    time.sleep(0.2)\n",
    "    index = driver.find_element_by_xpath(xpath).text\n",
    "    index = index.split('Environ ')[1].split(' résultats')[0]\n",
    "    print(f'Index: {index}')\n",
    "    driver.quit()\n",
    "    return index"
   ]
  },
  {
   "cell_type": "code",
   "execution_count": null,
   "id": "fd514f54-802d-4bdb-91a7-d7d7bdf92f5d",
   "metadata": {},
   "outputs": [],
   "source": []
  },
  {
   "cell_type": "code",
   "execution_count": 32,
   "id": "fd05eb20-10f9-4118-ac7c-1ac5d145aa1a",
   "metadata": {},
   "outputs": [
    {
     "name": "stdout",
     "output_type": "stream",
     "text": [
      "Opening https://www.google.com/search?q=site%3Asearchenginejournal.com&oq=site%3Asearchenginejournal.com&aqs=chrome..69i57j69i58.6029j0j1&sourceid=chrome&ie=UTF-8\n",
      "Index: 25 300\n",
      "Opening https://www.google.com/search?q=site%3Amoz.com&oq=site%3Amoz.com&aqs=chrome..69i57j69i58.6029j0j1&sourceid=chrome&ie=UTF-8\n",
      "Index: 107 000\n",
      "Opening https://www.google.com/search?q=site%3Asearchengineland.com&oq=site%3Asearchengineland.com&aqs=chrome..69i57j69i58.6029j0j1&sourceid=chrome&ie=UTF-8\n",
      "Index: 47 500\n",
      "Opening https://www.google.com/search?q=site%3Aliberation.fr&oq=site%3Aliberation.fr&aqs=chrome..69i57j69i58.6029j0j1&sourceid=chrome&ie=UTF-8\n",
      "Index: 1 120 000\n",
      "Opening https://www.google.com/search?q=site%3Alemonde.fr&oq=site%3Alemonde.fr&aqs=chrome..69i57j69i58.6029j0j1&sourceid=chrome&ie=UTF-8\n",
      "Index: 13 500 000\n",
      "Opening https://www.google.com/search?q=site%3Alefigaro.fr&oq=site%3Alefigaro.fr&aqs=chrome..69i57j69i58.6029j0j1&sourceid=chrome&ie=UTF-8\n",
      "Index: 20 600 000\n"
     ]
    }
   ],
   "source": [
    "for url in urls:\n",
    "    search_url = f'https://www.google.com/search?q=site%3A{url}&oq=site%3A{url}&aqs=chrome..69i57j69i58.6029j0j1&sourceid=chrome&ie=UTF-8'\n",
    "    index = get_index(search_url,xpath,headless=True)\n",
    "    indexes[url] = index \n",
    "    time.sleep(1)"
   ]
  },
  {
   "cell_type": "code",
   "execution_count": 38,
   "id": "93cbcdbd-c640-47d0-9624-d0c88b9f84aa",
   "metadata": {},
   "outputs": [
    {
     "data": {
      "text/plain": [
       "{'searchenginejournal.com': '25\\u202f300',\n",
       " 'moz.com': '107\\u202f000',\n",
       " 'searchengineland.com': '47\\u202f500',\n",
       " 'liberation.fr': '1\\u202f120\\u202f000',\n",
       " 'lemonde.fr': '13\\u202f500\\u202f000',\n",
       " 'lefigaro.fr': '20\\u202f600\\u202f000'}"
      ]
     },
     "execution_count": 38,
     "metadata": {},
     "output_type": "execute_result"
    }
   ],
   "source": [
    "indexes"
   ]
  },
  {
   "cell_type": "code",
   "execution_count": 39,
   "id": "86f43bd4-a909-4c51-8eeb-14c1f1b50efd",
   "metadata": {},
   "outputs": [],
   "source": [
    "for k in indexes.keys():\n",
    "    indexes[k] = indexes[k].replace(u\"\\u202f\", \"\")"
   ]
  },
  {
   "cell_type": "code",
   "execution_count": 46,
   "id": "b2389d89-5d16-419a-89bb-0fccb9e84c5a",
   "metadata": {},
   "outputs": [
    {
     "data": {
      "text/html": [
       "<div>\n",
       "<style scoped>\n",
       "    .dataframe tbody tr th:only-of-type {\n",
       "        vertical-align: middle;\n",
       "    }\n",
       "\n",
       "    .dataframe tbody tr th {\n",
       "        vertical-align: top;\n",
       "    }\n",
       "\n",
       "    .dataframe thead th {\n",
       "        text-align: right;\n",
       "    }\n",
       "</style>\n",
       "<table border=\"1\" class=\"dataframe\">\n",
       "  <thead>\n",
       "    <tr style=\"text-align: right;\">\n",
       "      <th></th>\n",
       "      <th>0</th>\n",
       "      <th>1</th>\n",
       "    </tr>\n",
       "  </thead>\n",
       "  <tbody>\n",
       "    <tr>\n",
       "      <th>0</th>\n",
       "      <td>searchenginejournal.com</td>\n",
       "      <td>25300</td>\n",
       "    </tr>\n",
       "    <tr>\n",
       "      <th>1</th>\n",
       "      <td>moz.com</td>\n",
       "      <td>107000</td>\n",
       "    </tr>\n",
       "    <tr>\n",
       "      <th>2</th>\n",
       "      <td>searchengineland.com</td>\n",
       "      <td>47500</td>\n",
       "    </tr>\n",
       "    <tr>\n",
       "      <th>3</th>\n",
       "      <td>liberation.fr</td>\n",
       "      <td>1120000</td>\n",
       "    </tr>\n",
       "    <tr>\n",
       "      <th>4</th>\n",
       "      <td>lemonde.fr</td>\n",
       "      <td>13500000</td>\n",
       "    </tr>\n",
       "    <tr>\n",
       "      <th>5</th>\n",
       "      <td>lefigaro.fr</td>\n",
       "      <td>20600000</td>\n",
       "    </tr>\n",
       "  </tbody>\n",
       "</table>\n",
       "</div>"
      ],
      "text/plain": [
       "                         0         1\n",
       "0  searchenginejournal.com     25300\n",
       "1                  moz.com    107000\n",
       "2     searchengineland.com     47500\n",
       "3            liberation.fr   1120000\n",
       "4               lemonde.fr  13500000\n",
       "5              lefigaro.fr  20600000"
      ]
     },
     "execution_count": 46,
     "metadata": {},
     "output_type": "execute_result"
    }
   ],
   "source": [
    "pd.DataFrame(indexes.items())"
   ]
  },
  {
   "cell_type": "code",
   "execution_count": 47,
   "id": "46888c58-67bd-47b6-92a3-0c73d18a8aa6",
   "metadata": {},
   "outputs": [
    {
     "data": {
      "text/plain": [
       "searchenginejournal.com       25300\n",
       "moz.com                      107000\n",
       "searchengineland.com          47500\n",
       "liberation.fr               1120000\n",
       "lemonde.fr                 13500000\n",
       "lefigaro.fr                20600000\n",
       "dtype: object"
      ]
     },
     "execution_count": 47,
     "metadata": {},
     "output_type": "execute_result"
    }
   ],
   "source": [
    "pd.Series(indexes)"
   ]
  },
  {
   "cell_type": "code",
   "execution_count": null,
   "id": "f13e330a-7197-4331-9236-27b96936c969",
   "metadata": {},
   "outputs": [],
   "source": []
  }
 ],
 "metadata": {
  "kernelspec": {
   "display_name": "Python 3",
   "language": "python",
   "name": "python3"
  },
  "language_info": {
   "codemirror_mode": {
    "name": "ipython",
    "version": 3
   },
   "file_extension": ".py",
   "mimetype": "text/x-python",
   "name": "python",
   "nbconvert_exporter": "python",
   "pygments_lexer": "ipython3",
   "version": "3.7.11"
  }
 },
 "nbformat": 4,
 "nbformat_minor": 5
}
