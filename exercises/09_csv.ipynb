{
 "cells": [
  {
   "cell_type": "code",
   "execution_count": null,
   "metadata": {},
   "outputs": [],
   "source": [
    "import csv"
   ]
  },
  {
   "cell_type": "code",
   "execution_count": null,
   "metadata": {},
   "outputs": [],
   "source": [
    "# On ouvre le fichier comme du texte\n",
    "in_file = open(\"../goodiebag/unemployment.csv\", 'rt')\n",
    "# On interprête ce fichier comme un CSV\n",
    "csv_file = csv.DictReader(in_file, delimiter=';')"
   ]
  },
  {
   "cell_type": "code",
   "execution_count": null,
   "metadata": {},
   "outputs": [],
   "source": [
    "data = [x for x in csv_file]"
   ]
  },
  {
   "cell_type": "markdown",
   "metadata": {},
   "source": [
    "#### Tâche: comptez le nombre de lignes présentes dans ce fichier CSV."
   ]
  },
  {
   "cell_type": "code",
   "execution_count": null,
   "metadata": {
    "tags": []
   },
   "outputs": [],
   "source": [
    "counter = 0\n",
    "# On parcout le fichier ligne par ligne\n",
    "for row in data:\n",
    "    print(row)\n",
    "    counter += 1\n",
    "\n",
    "print(f\"Il y a {counter} lignes dans ce fichier CSV!\")"
   ]
  },
  {
   "cell_type": "markdown",
   "metadata": {},
   "source": [
    "#### Tâches: convertissez en décimal les propriétés \"unemployment_2009\" et \"unemployment_2014\" à partir du texte en utilisant la fonction float()."
   ]
  },
  {
   "cell_type": "code",
   "execution_count": null,
   "metadata": {},
   "outputs": [],
   "source": [
    "# On ouvre le fichier comme du texte\n",
    "in_file = open(\"../goodiebag/unemployment.csv\", 'rt')\n",
    "# On interprête ce fichier comme un CSV\n",
    "csv_file = csv.DictReader(in_file, delimiter=';')\n",
    "data = [x for x in csv_file]"
   ]
  },
  {
   "cell_type": "code",
   "execution_count": null,
   "metadata": {
    "tags": []
   },
   "outputs": [],
   "source": [
    "# On parcout le fichier ligne par ligne\n",
    "for row in data:\n",
    "    print(\"Orignal data:\")\n",
    "    print(row)\n",
    "    # Codez ici!\n",
    "    print(row)"
   ]
  },
  {
   "cell_type": "code",
   "execution_count": null,
   "metadata": {},
   "outputs": [],
   "source": []
  },
  {
   "cell_type": "markdown",
   "metadata": {},
   "source": [
    "#### Tâches: utilisez la fonction que vous avez écrit à l'exercice 5 pour afficher une histoire sur le taux de chômage de chaque des villes."
   ]
  },
  {
   "cell_type": "code",
   "execution_count": null,
   "metadata": {},
   "outputs": [],
   "source": [
    "# On ouvre le fichier comme du texte\n",
    "in_file = open(\"../goodiebag/unemployment.csv\", 'rt')\n",
    "# On interprête ce fichier comme un CSV\n",
    "csv_file = csv.DictReader(in_file, delimiter=';')"
   ]
  },
  {
   "cell_type": "code",
   "execution_count": null,
   "metadata": {},
   "outputs": [],
   "source": [
    "def write_story(municipality, unemployment_2009, unemployment_2014):\n",
    "    story = f\"Voici quelques info sur le taux de chomage à {municipality}\" \n",
    "    # Codez ici\n",
    "    return story"
   ]
  },
  {
   "cell_type": "code",
   "execution_count": null,
   "metadata": {},
   "outputs": [],
   "source": [
    "# On parcout le fichier ligne par ligne\n",
    "for row in csv_file:\n",
    "    print(\"*****\")\n",
    "    municipality = row[\"municipality\"]\n",
    "    # On convertit les valeurs en décimal\n",
    "    unemployment_2009 = float(row[\"unemployment_2009\"])\n",
    "    unemployment_2014 = float(row[\"unemployment_2014\"])\n",
    "    # On appelle la fonction pour écrire une histoire avec nos valeurs\n",
    "    story = write_story(municipality, unemployment_2009, unemployment_2014)\n",
    "\n",
    "    print(story)"
   ]
  },
  {
   "cell_type": "code",
   "execution_count": null,
   "metadata": {},
   "outputs": [],
   "source": []
  }
 ],
 "metadata": {
  "kernelspec": {
   "display_name": "Python 3",
   "language": "python",
   "name": "python3"
  },
  "language_info": {
   "codemirror_mode": {
    "name": "ipython",
    "version": 3
   },
   "file_extension": ".py",
   "mimetype": "text/x-python",
   "name": "python",
   "nbconvert_exporter": "python",
   "pygments_lexer": "ipython3",
   "version": "3.7.11"
  }
 },
 "nbformat": 4,
 "nbformat_minor": 4
}
